{
 "cells": [
  {
   "metadata": {},
   "cell_type": "markdown",
   "source": "## Importing",
   "id": "709767cb4f82a190"
  },
  {
   "metadata": {},
   "cell_type": "code",
   "source": [
    "import pandas as pd\n",
    "import matplotlib.pyplot as plt\n",
    "import seaborn as sns\n",
    "from pathlib import Path"
   ],
   "id": "8dc7817d84123bd6",
   "outputs": [],
   "execution_count": null
  },
  {
   "metadata": {},
   "cell_type": "markdown",
   "source": "## Eda Class Declaration",
   "id": "9db19a9c2471ecd2"
  },
  {
   "metadata": {},
   "cell_type": "code",
   "source": [
    "class EDA:\n",
    "    def __init__(self, news_path: str, stocks_dir: str):\n",
    "        self.news_path = Path(news_path)\n",
    "        self.stocks_dir = Path(stocks_dir)\n",
    "        self.news_df = None\n",
    "        self.stocks_data = {}\n",
    "\n",
    "    def load_news(self):\n",
    "        self.news_df = pd.read_csv(self.news_path)\n",
    "        # Robust datetime parsing (handles mixed / slightly varying formats)\n",
    "        self.news_df['date'] = pd.to_datetime(\n",
    "            self.news_df['date'],\n",
    "            infer_datetime_format=True,\n",
    "            errors='coerce',  # bad/mismatched strings become NaT instead of crashing\n",
    "            utc=False         # set True if you know times are UTC; drop tz later if needed\n",
    "        )\n",
    "        # Optional: show rows that failed to parse\n",
    "        bad = self.news_df[self.news_df['date'].isna()]\n",
    "        if not bad.empty:\n",
    "            print(f\"Warning: {len(bad)} headline dates failed to parse. Sample:\")\n",
    "            display(bad.head(5))\n",
    "        return self.news_df\n",
    "\n",
    "    def load_stocks(self):\n",
    "        for file in self.stocks_dir.glob(\"*_historical_data.csv\"):\n",
    "            ticker = file.stem.split(\"_\")[0]\n",
    "            df = pd.read_csv(file)\n",
    "            df['Date'] = pd.to_datetime(df['Date'])\n",
    "            df.sort_values('Date', inplace=True)\n",
    "            self.stocks_data[ticker] = df\n",
    "        return self.stocks_data\n",
    "\n",
    "    def describe_news(self):\n",
    "        print(\"\\n--- News Data Overview ---\")\n",
    "        print(self.news_df.info())\n",
    "        print(self.news_df.describe(include='all'))\n",
    "        print(\"\\nTop Publishers:\")\n",
    "        print(self.news_df['publisher'].value_counts().head())\n",
    "\n",
    "    def plot_news_frequency(self):\n",
    "        plt.figure(figsize=(10,4))\n",
    "        sns.countplot(data=self.news_df, x='stock', order=self.news_df['stock'].value_counts().index)\n",
    "        plt.title(\"News Count by Stock\")\n",
    "        plt.xticks(rotation=45)\n",
    "        plt.show()\n",
    "\n",
    "    def describe_stocks(self):\n",
    "        for ticker, df in self.stocks_data.items():\n",
    "            print(f\"\\n--- {ticker} ---\")\n",
    "            print(df.describe())\n",
    "            print(f\"Date range: {df['Date'].min()} to {df['Date'].max()}\")\n",
    "\n",
    "    def plot_stock_close(self, ticker):\n",
    "        df = self.stocks_data[ticker]\n",
    "        plt.figure(figsize=(10,4))\n",
    "        plt.plot(df['Date'], df['Close'], label=ticker)\n",
    "        plt.title(f\"{ticker} Closing Price Over Time\")\n",
    "        plt.xlabel(\"Date\")\n",
    "        plt.ylabel(\"Close Price\")\n",
    "        plt.legend()\n",
    "        plt.show()"
   ],
   "id": "202c4047d95feb52",
   "outputs": [],
   "execution_count": null
  },
  {
   "metadata": {},
   "cell_type": "markdown",
   "source": "## Class usage",
   "id": "19101a0b53d006a4"
  },
  {
   "metadata": {},
   "cell_type": "code",
   "source": [
    "eda = EDA(\"../data/raw_analyst_ratings.csv\", \"../data/\")\n",
    "eda.load_news()\n",
    "eda.load_stocks()\n",
    "\n",
    "eda.describe_news()\n",
    "eda.plot_news_frequency()\n",
    "\n",
    "eda.describe_stocks()\n",
    "eda.plot_stock_close(\"AAPL\")"
   ],
   "id": "931895487247179a",
   "outputs": [],
   "execution_count": null
  }
 ],
 "metadata": {
  "kernelspec": {
   "display_name": "Python 3",
   "language": "python",
   "name": "python3"
  },
  "language_info": {
   "codemirror_mode": {
    "name": "ipython",
    "version": 2
   },
   "file_extension": ".py",
   "mimetype": "text/x-python",
   "name": "python",
   "nbconvert_exporter": "python",
   "pygments_lexer": "ipython2",
   "version": "2.7.6"
  }
 },
 "nbformat": 4,
 "nbformat_minor": 5
}
