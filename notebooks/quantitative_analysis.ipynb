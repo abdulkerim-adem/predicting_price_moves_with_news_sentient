{
 "cells": [
  {
   "metadata": {},
   "cell_type": "markdown",
   "source": "## Importing",
   "id": "358741f3c4e9a49f"
  },
  {
   "cell_type": "code",
   "execution_count": null,
   "id": "initial_id",
   "metadata": {
    "collapsed": true
   },
   "outputs": [],
   "source": [
    "import pandas as pd\n",
    "import numpy as np\n",
    "\n",
    "# try to import TA-Lib; fallback flag if unavailable\n",
    "try:\n",
    "    import ta-lib\n",
    "    TALIB_AVAILABLE = True\n",
    "except ImportError:\n",
    "    TALIB_AVAILABLE = False\n",
    "    print(\"TA-Lib not available; falling back to pure-Python implementations.\")"
   ]
  },
  {
   "metadata": {},
   "cell_type": "markdown",
   "source": "## Class Declaration",
   "id": "fcb028ce2576a63d"
  },
  {
   "metadata": {},
   "cell_type": "code",
   "outputs": [],
   "execution_count": null,
   "source": [
    "class QuantitativeAnalysis:\n",
    "    def __init__(self, stock_df: pd.DataFrame):\n",
    "        self.df = stock_df.copy()\n",
    "        self.df['Date'] = pd.to_datetime(self.df['Date'])\n",
    "        self.df.sort_values('Date', inplace=True)\n",
    "        self.df.reset_index(drop=True, inplace=True)\n",
    "        self.df['daily_return'] = self.df['Close'].pct_change()\n",
    "\n",
    "    def add_sma(self, window=20):\n",
    "        if TALIB_AVAILABLE:\n",
    "            self.df[f\"SMA_{window}\"] = talib.SMA(self.df['Close'], timeperiod=window)\n",
    "        else:\n",
    "            self.df[f\"SMA_{window}\"] = self.df['Close'].rolling(window).mean()\n",
    "\n",
    "    def add_rsi(self, period=14):\n",
    "        if TALIB_AVAILABLE:\n",
    "            self.df['RSI'] = talib.RSI(self.df['Close'], timeperiod=period)\n",
    "        else:\n",
    "            delta = self.df['Close'].diff()\n",
    "            up = delta.clip(lower=0)\n",
    "            down = -1 * delta.clip(upper=0)\n",
    "            ma_up = up.rolling(period).mean()\n",
    "            ma_down = down.rolling(period).mean()\n",
    "            rs = ma_up / (ma_down + 1e-8)\n",
    "            self.df['RSI'] = 100 - (100 / (1 + rs))\n",
    "\n",
    "    def add_macd(self):\n",
    "        if TALIB_AVAILABLE:\n",
    "            macd, signal, hist = talib.MACD(self.df['Close'], fastperiod=12, slowperiod=26, signalperiod=9)\n",
    "            self.df['MACD'] = macd\n",
    "            self.df['MACD_signal'] = signal\n",
    "            self.df['MACD_hist'] = hist\n",
    "        else:\n",
    "            # simple MACD approximation using EMAs\n",
    "            ema12 = self.df['Close'].ewm(span=12, adjust=False).mean()\n",
    "            ema26 = self.df['Close'].ewm(span=26, adjust=False).mean()\n",
    "            self.df['MACD'] = ema12 - ema26\n",
    "            self.df['MACD_signal'] = self.df['MACD'].ewm(span=9, adjust=False).mean()\n",
    "            self.df['MACD_hist'] = self.df['MACD'] - self.df['MACD_signal']\n",
    "\n",
    "    def summary(self):\n",
    "        return self.df.tail()\n",
    "\n",
    "    def plot_price_with_sma(self):\n",
    "        import matplotlib.pyplot as plt\n",
    "        plt.figure(figsize=(10,5))\n",
    "        plt.plot(self.df['Date'], self.df['Close'], label='Close')\n",
    "        for col in self.df.columns:\n",
    "            if col.startswith('SMA_'):\n",
    "                plt.plot(self.df['Date'], self.df[col], label=col)\n",
    "        plt.title(\"Price with SMAs\")\n",
    "        plt.legend()\n",
    "        plt.tight_layout()\n",
    "        plt.show()"
   ],
   "id": "4db2837d4cea4db4"
  },
  {
   "metadata": {},
   "cell_type": "markdown",
   "source": "## Analysis",
   "id": "83fc1a9e7e1a18ad"
  },
  {
   "metadata": {},
   "cell_type": "code",
   "outputs": [],
   "execution_count": null,
   "source": [
    "# load AAPL (adjust path as needed)\n",
    "aapl_df = pd.read_csv(\"../data/AAPL_historical_data.csv\")\n",
    "\n",
    "qa = QuantitativeAnalysis(aapl_df)\n",
    "qa.add_sma(20)\n",
    "qa.add_sma(50)\n",
    "qa.add_rsi()\n",
    "qa.add_macd()\n",
    "\n",
    "qa.plot_price_with_sma()\n",
    "display(qa.summary())"
   ],
   "id": "237cf71c6e8ce43f"
  }
 ],
 "metadata": {
  "kernelspec": {
   "display_name": "Python 3",
   "language": "python",
   "name": "python3"
  },
  "language_info": {
   "codemirror_mode": {
    "name": "ipython",
    "version": 2
   },
   "file_extension": ".py",
   "mimetype": "text/x-python",
   "name": "python",
   "nbconvert_exporter": "python",
   "pygments_lexer": "ipython2",
   "version": "2.7.6"
  }
 },
 "nbformat": 4,
 "nbformat_minor": 5
}
